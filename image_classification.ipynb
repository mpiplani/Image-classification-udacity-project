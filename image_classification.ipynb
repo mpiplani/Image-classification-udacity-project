{
 "cells": [
  {
   "cell_type": "markdown",
   "metadata": {
    "collapsed": true
   },
   "source": [
    "# Image Classification\n",
    "In this project, you'll classify images from the [CIFAR-10 dataset](https://www.cs.toronto.edu/~kriz/cifar.html).  The dataset consists of airplanes, dogs, cats, and other objects. You'll preprocess the images, then train a convolutional neural network on all the samples. The images need to be normalized and the labels need to be one-hot encoded.  You'll get to apply what you learned and build a convolutional, max pooling, dropout, and fully connected layers.  At the end, you'll get to see your neural network's predictions on the sample images.\n",
    "## Get the Data\n",
    "Run the following cell to download the [CIFAR-10 dataset for python](https://www.cs.toronto.edu/~kriz/cifar-10-python.tar.gz)."
   ]
  },
  {
   "cell_type": "code",
   "execution_count": 1,
   "metadata": {},
   "outputs": [
    {
     "name": "stdout",
     "output_type": "stream",
     "text": [
      "All files found!\n"
     ]
    }
   ],
   "source": [
    "\"\"\"\n",
    "DON'T MODIFY ANYTHING IN THIS CELL THAT IS BELOW THIS LINE\n",
    "\"\"\"\n",
    "from urllib.request import urlretrieve\n",
    "from os.path import isfile, isdir\n",
    "from tqdm import tqdm\n",
    "import problem_unittests as tests\n",
    "import tarfile\n",
    "import tensorflow as tf\n",
    "\n",
    "cifar10_dataset_folder_path = 'cifar-10-batches-py'\n",
    "\n",
    "class DLProgress(tqdm):\n",
    "    last_block = 0\n",
    "\n",
    "    def hook(self, block_num=1, block_size=1, total_size=None):\n",
    "        self.total = total_size\n",
    "        self.update((block_num - self.last_block) * block_size)\n",
    "        self.last_block = block_num\n",
    "\n",
    "if not isfile('cifar-10-python.tar.gz'):\n",
    "    with DLProgress(unit='B', unit_scale=True, miniters=1, desc='CIFAR-10 Dataset') as pbar:\n",
    "        urlretrieve(\n",
    "            'https://www.cs.toronto.edu/~kriz/cifar-10-python.tar.gz',\n",
    "            'cifar-10-python.tar.gz',\n",
    "            pbar.hook)\n",
    "\n",
    "if not isdir(cifar10_dataset_folder_path):\n",
    "    with tarfile.open('cifar-10-python.tar.gz') as tar:\n",
    "        tar.extractall()\n",
    "        tar.close()\n",
    "\n",
    "\n",
    "tests.test_folder_path(cifar10_dataset_folder_path)"
   ]
  },
  {
   "cell_type": "markdown",
   "metadata": {},
   "source": [
    "## Explore the Data\n",
    "The dataset is broken into batches to prevent your machine from running out of memory.  The CIFAR-10 dataset consists of 5 batches, named `data_batch_1`, `data_batch_2`, etc.. Each batch contains the labels and images that are one of the following:\n",
    "* airplane\n",
    "* automobile\n",
    "* bird\n",
    "* cat\n",
    "* deer\n",
    "* dog\n",
    "* frog\n",
    "* horse\n",
    "* ship\n",
    "* truck\n",
    "\n",
    "Understanding a dataset is part of making predictions on the data.  Play around with the code cell below by changing the `batch_id` and `sample_id`. The `batch_id` is the id for a batch (1-5). The `sample_id` is the id for a image and label pair in the batch.\n",
    "\n",
    "Ask yourself \"What are all possible labels?\", \"What is the range of values for the image data?\", \"Are the labels in order or random?\".  Answers to questions like these will help you preprocess the data and end up with better predictions."
   ]
  },
  {
   "cell_type": "code",
   "execution_count": 2,
   "metadata": {},
   "outputs": [
    {
     "name": "stdout",
     "output_type": "stream",
     "text": [
      "\n",
      "Stats of batch 1:\n",
      "Samples: 10000\n",
      "Label Counts: {0: 1005, 1: 974, 2: 1032, 3: 1016, 4: 999, 5: 937, 6: 1030, 7: 1001, 8: 1025, 9: 981}\n",
      "First 20 Labels: [6, 9, 9, 4, 1, 1, 2, 7, 8, 3, 4, 7, 7, 2, 9, 9, 9, 3, 2, 6]\n",
      "\n",
      "Example of Image 5:\n",
      "Image - Min Value: 0 Max Value: 252\n",
      "Image - Shape: (32, 32, 3)\n",
      "Label - Label Id: 1 Name: automobile\n"
     ]
    },
    {
     "data": {
      "image/png": "[encoded data removed]",
      "text/plain": [
       "<matplotlib.figure.Figure at 0x7f8aa58ac908>"
      ]
     },
     "metadata": {
      "image/png": {
       "height": 250,
       "width": 253
      }
     },
     "output_type": "display_data"
    }
   ],
   "source": [
    "%matplotlib inline\n",
    "%config InlineBackend.figure_format = 'retina'\n",
    "\n",
    "import helper\n",
    "import numpy as np\n",
    "\n",
    "# Explore the dataset\n",
    "batch_id = 1\n",
    "sample_id = 5\n",
    "helper.display_stats(cifar10_dataset_folder_path, batch_id, sample_id)"
   ]
  },
  {
   "cell_type": "markdown",
   "metadata": {},
   "source": [
    "## Implement Preprocess Functions\n",
    "### Normalize\n",
    "In the cell below, implement the `normalize` function to take in image data, `x`, and return it as a normalized Numpy array. The values should be in the range of 0 to 1, inclusive.  The return object should be the same shape as `x`."
   ]
  },
  {
   "cell_type": "code",
   "execution_count": 3,
   "metadata": {},
   "outputs": [
    {
     "name": "stdout",
     "output_type": "stream",
     "text": [
      "Tests Passed\n"
     ]
    }
   ],
   "source": [
    "def normalize(x):\n",
    "    \"\"\"\n",
    "    Normalize a list of sample image data in the range of 0 to 1\n",
    "    : x: List of image data.  The image shape is (32, 32, 3)\n",
    "    : return: Numpy array of normalize data\n",
    "    \"\"\"\n",
    "    # TODO: Implement Function\n",
    "    normalized_image=x/255\n",
    "    return normalized_image\n",
    "\n",
    "\n",
    "\"\"\"\n",
    "DON'T MODIFY ANYTHING IN THIS CELL THAT IS BELOW THIS LINE\n",
    "\"\"\"\n",
    "tests.test_normalize(normalize)"
   ]
  },
  {
   "cell_type": "markdown",
   "metadata": {},
   "source": [
    "### One-hot encode\n",
    "Just like the previous code cell, you'll be implementing a function for preprocessing.  This time, you'll implement the `one_hot_encode` function. The input, `x`, are a list of labels.  Implement the function to return the list of labels as One-Hot encoded Numpy array.  The possible values for labels are 0 to 9. The one-hot encoding function should return the same encoding for each value between each call to `one_hot_encode`.  Make sure to save the map of encodings outside the function.\n",
    "\n",
    "**Hint:**\n",
    "\n",
    "Look into LabelBinarizer in the preprocessing module of sklearn."
   ]
  },
  {
   "cell_type": "code",
   "execution_count": 4,
   "metadata": {},
   "outputs": [
    {
     "name": "stdout",
     "output_type": "stream",
     "text": [
      "Tests Passed\n"
     ]
    }
   ],
   "source": [
    "def one_hot_encode(x):\n",
    "    \"\"\"\n",
    "    One hot encode a list of sample labels. Return a one-hot encoded vector for each label.\n",
    "    : x: List of sample Labels\n",
    "    : return: Numpy array of one-hot encoded labels\n",
    "    \"\"\"\n",
    "    # TODO: Implement Function\n",
    "    session = tf.Session()\n",
    "    one_hot_encode = session.run(tf.one_hot(x,10)) \n",
    "    return one_hot_encode\n",
    "   \n",
    "\n",
    "\n",
    "\"\"\"\n",
    "DON'T MODIFY ANYTHING IN THIS CELL THAT IS BELOW THIS LINE\n",
    "\"\"\"\n",
    "tests.test_one_hot_encode(one_hot_encode)"
   ]
  },
  {
   "cell_type": "markdown",
   "metadata": {},
   "source": [
    "### Randomize Data\n",
    "As you saw from exploring the data above, the order of the samples are randomized.  It doesn't hurt to randomize it again, but you don't need to for this dataset."
   ]
  },
  {
   "cell_type": "markdown",
   "metadata": {},
   "source": [
    "## Preprocess all the data and save it\n",
    "Running the code cell below will preprocess all the CIFAR-10 data and save it to file. The code below also uses 10% of the training data for validation."
   ]
  },
  {
   "cell_type": "code",
   "execution_count": 5,
   "metadata": {},
   "outputs": [],
   "source": [
    "\"\"\"\n",
    "DON'T MODIFY ANYTHING IN THIS CELL\n",
    "\"\"\"\n",
    "# Preprocess Training, Validation, and Testing Data\n",
    "helper.preprocess_and_save_data(cifar10_dataset_folder_path, normalize, one_hot_encode)"
   ]
  },
  {
   "cell_type": "markdown",
   "metadata": {},
   "source": [
    "# Check Point\n",
    "This is your first checkpoint.  If you ever decide to come back to this notebook or have to restart the notebook, you can start from here.  The preprocessed data has been saved to disk."
   ]
  },
  {
   "cell_type": "code",
   "execution_count": 6,
   "metadata": {},
   "outputs": [],
   "source": [
    "\"\"\"\n",
    "DON'T MODIFY ANYTHING IN THIS CELL\n",
    "\"\"\"\n",
    "import pickle\n",
    "import problem_unittests as tests\n",
    "import helper\n",
    "\n",
    "# Load the Preprocessed Validation data\n",
    "valid_features, valid_labels = pickle.load(open('preprocess_validation.p', mode='rb'))"
   ]
  },
  {
   "cell_type": "markdown",
   "metadata": {},
   "source": [
    "## Build the network\n",
    "For the neural network, you'll build each layer into a function.  Most of the code you've seen has been outside of functions. To test your code more thoroughly, we require that you put each layer in a function.  This allows us to give you better feedback and test for simple mistakes using our unittests before you submit your project.\n",
    "\n",
    ">**Note:** If you're finding it hard to dedicate enough time for this course each week, we've provided a small shortcut to this part of the project. In the next couple of problems, you'll have the option to use classes from the [TensorFlow Layers](https://www.tensorflow.org/api_docs/python/tf/layers) or [TensorFlow Layers (contrib)](https://www.tensorflow.org/api_guides/python/contrib.layers) packages to build each layer, except the layers you build in the \"Convolutional and Max Pooling Layer\" section.  TF Layers is similar to Keras's and TFLearn's abstraction to layers, so it's easy to pickup.\n",
    "\n",
    ">However, if you would like to get the most out of this course, try to solve all the problems _without_ using anything from the TF Layers packages. You **can** still use classes from other packages that happen to have the same name as ones you find in TF Layers! For example, instead of using the TF Layers version of the `conv2d` class, [tf.layers.conv2d](https://www.tensorflow.org/api_docs/python/tf/layers/conv2d), you would want to use the TF Neural Network version of `conv2d`, [tf.nn.conv2d](https://www.tensorflow.org/api_docs/python/tf/nn/conv2d). \n",
    "\n",
    "Let's begin!\n",
    "\n",
    "### Input\n",
    "The neural network needs to read the image data, one-hot encoded labels, and dropout keep probability. Implement the following functions\n",
    "* Implement `neural_net_image_input`\n",
    " * Return a [TF Placeholder](https://www.tensorflow.org/api_docs/python/tf/placeholder)\n",
    " * Set the shape using `image_shape` with batch size set to `None`.\n",
    " * Name the TensorFlow placeholder \"x\" using the TensorFlow `name` parameter in the [TF Placeholder](https://www.tensorflow.org/api_docs/python/tf/placeholder).\n",
    "* Implement `neural_net_label_input`\n",
    " * Return a [TF Placeholder](https://www.tensorflow.org/api_docs/python/tf/placeholder)\n",
    " * Set the shape using `n_classes` with batch size set to `None`.\n",
    " * Name the TensorFlow placeholder \"y\" using the TensorFlow `name` parameter in the [TF Placeholder](https://www.tensorflow.org/api_docs/python/tf/placeholder).\n",
    "* Implement `neural_net_keep_prob_input`\n",
    " * Return a [TF Placeholder](https://www.tensorflow.org/api_docs/python/tf/placeholder) for dropout keep probability.\n",
    " * Name the TensorFlow placeholder \"keep_prob\" using the TensorFlow `name` parameter in the [TF Placeholder](https://www.tensorflow.org/api_docs/python/tf/placeholder).\n",
    "\n",
    "These names will be used at the end of the project to load your saved model.\n",
    "\n",
    "Note: `None` for shapes in TensorFlow allow for a dynamic size."
   ]
  },
  {
   "cell_type": "code",
   "execution_count": 7,
   "metadata": {},
   "outputs": [
    {
     "name": "stdout",
     "output_type": "stream",
     "text": [
      "Image Input Tests Passed.\n",
      "Label Input Tests Passed.\n",
      "Keep Prob Tests Passed.\n"
     ]
    }
   ],
   "source": [
    "import tensorflow as tf\n",
    "\n",
    "def neural_net_image_input(image_shape):\n",
    "    \"\"\"\n",
    "    Return a Tensor for a batch of image input\n",
    "    : image_shape: Shape of the images\n",
    "    : return: Tensor for image input.\n",
    "\n",
    "    \"\"\"\n",
    "    x=tf.placeholder(tf.float32,[None,image_shape[0],image_shape[1],image_shape[2]], name='x')\n",
    "    # TODO: Implement Function\n",
    "    return x\n",
    "\n",
    "\n",
    "def neural_net_label_input(n_classes):\n",
    "    \"\"\"\n",
    "    Return a Tensor for a batch of label input\n",
    "    : n_classes: Number of classes\n",
    "    : return: Tensor for label input.\n",
    "    \"\"\"\n",
    "    y=tf.placeholder(tf.float32,[None,n_classes], name='y')\n",
    "    # TODO: Implement Function\n",
    "    return y\n",
    "\n",
    "\n",
    "def neural_net_keep_prob_input():\n",
    "    \"\"\"\n",
    "    Return a Tensor for keep probability\n",
    "    : return: Tensor for keep probability.\n",
    "    \"\"\"\n",
    "    keep_prob=tf.placeholder(tf.float32,name='keep_prob')\n",
    "    # TODO: Implement Function\n",
    "    return keep_prob\n",
    "\n",
    "\n",
    "\"\"\"\n",
    "DON'T MODIFY ANYTHING IN THIS CELL THAT IS BELOW THIS LINE\n",
    "\"\"\"\n",
    "tf.reset_default_graph()\n",
    "tests.test_nn_image_inputs(neural_net_image_input)\n",
    "tests.test_nn_label_inputs(neural_net_label_input)\n",
    "tests.test_nn_keep_prob_inputs(neural_net_keep_prob_input)"
   ]
  },
  {
   "cell_type": "markdown",
   "metadata": {},
   "source": [
    "### Convolution and Max Pooling Layer\n",
    "Convolution layers have a lot of success with images. For this code cell, you should implement the function `conv2d_maxpool` to apply convolution then max pooling:\n",
    "* Create the weight and bias using `conv_ksize`, `conv_num_outputs` and the shape of `x_tensor`.\n",
    "* Apply a convolution to `x_tensor` using weight and `conv_strides`.\n",
    " * We recommend you use same padding, but you're welcome to use any padding.\n",
    "* Add bias\n",
    "* Add a nonlinear activation to the convolution.\n",
    "* Apply Max Pooling using `pool_ksize` and `pool_strides`.\n",
    " * We recommend you use same padding, but you're welcome to use any padding.\n",
    "\n",
    "**Note:** You **can't** use [TensorFlow Layers](https://www.tensorflow.org/api_docs/python/tf/layers) or [TensorFlow Layers (contrib)](https://www.tensorflow.org/api_guides/python/contrib.layers) for **this** layer, but you can still use TensorFlow's [Neural Network](https://www.tensorflow.org/api_docs/python/tf/nn) package. You may still use the shortcut option for all the **other** layers.\n",
    "\n",
    "** Hint: **\n",
    "\n",
    "When unpacking values as an argument in Python, look into the [unpacking](https://docs.python.org/3/tutorial/controlflow.html#unpacking-argument-lists) operator. "
   ]
  },
  {
   "cell_type": "code",
   "execution_count": 8,
   "metadata": {},
   "outputs": [
    {
     "name": "stdout",
     "output_type": "stream",
     "text": [
      "Tests Passed\n"
     ]
    }
   ],
   "source": [
    "def conv2d_maxpool(x_tensor, conv_num_outputs, conv_ksize, conv_strides, pool_ksize, pool_strides):\n",
    "    \"\"\"\n",
    "    Apply convolution then max pooling to x_tensor\n",
    "    :param x_tensor: TensorFlow Tensor\n",
    "    :param conv_num_outputs: Number of outputs for the convolutional layer\n",
    "    :param conv_ksize: kernal size 2-D Tuple for the convolutional layer\n",
    "    :param conv_strides: Stride 2-D Tuple for convolution\n",
    "    :param pool_ksize: kernal size 2-D Tuple for pool\n",
    "    :param pool_strides: Stride 2-D Tuple for pool\n",
    "    : return: A tensor that represents convolution and max pooling of x_tensor\n",
    "    \"\"\"\n",
    "    # TODO: Implement Function\n",
    "    weight=tf.Variable(tf.truncated_normal([conv_ksize[0],conv_ksize[1],x_tensor.shape[3].value,conv_num_outputs],stddev=0.1))\n",
    "    bias = tf.Variable(tf.zeros([conv_num_outputs]))\n",
    "    x_tensor = tf.nn.conv2d(x_tensor, weight, strides=[1, conv_strides[0], conv_strides[1], 1], padding='SAME')\n",
    "    x_tensor = tf.nn.bias_add(x_tensor, bias)\n",
    "    x_tensor = tf.nn.relu(x_tensor)\n",
    "    max_pooling = tf.nn.max_pool(x_tensor,ksize=[1, pool_ksize[0], pool_ksize[1], 1],strides=[1, pool_strides[0], pool_strides[1], 1],padding='SAME')\n",
    "    return max_pooling\n",
    "\n",
    "\n",
    "\"\"\"\n",
    "DON'T MODIFY ANYTHING IN THIS CELL THAT IS BELOW THIS LINE\n",
    "\"\"\"\n",
    "tests.test_con_pool(conv2d_maxpool)"
   ]
  },
  {
   "cell_type": "markdown",
   "metadata": {},
   "source": [
    "### Flatten Layer\n",
    "Implement the `flatten` function to change the dimension of `x_tensor` from a 4-D tensor to a 2-D tensor.  The output should be the shape (*Batch Size*, *Flattened Image Size*). Shortcut option: you can use classes from the [TensorFlow Layers](https://www.tensorflow.org/api_docs/python/tf/layers) or [TensorFlow Layers (contrib)](https://www.tensorflow.org/api_guides/python/contrib.layers) packages for this layer. For more of a challenge, only use other TensorFlow packages."
   ]
  },
  {
   "cell_type": "code",
   "execution_count": 9,
   "metadata": {},
   "outputs": [
    {
     "name": "stdout",
     "output_type": "stream",
     "text": [
      "Tests Passed\n"
     ]
    }
   ],
   "source": [
    "def flatten(x_tensor):\n",
    "    \"\"\"\n",
    "    Flatten x_tensor to (Batch Size, Flattened Image Size)\n",
    "    : x_tensor: A tensor of size (Batch Size, ...), where ... are the image dimensions.\n",
    "    : return: A tensor of size (Batch Size, Flattened Image Size).\n",
    "    \"\"\"\n",
    "    # TODO: Implement Function\n",
    "    return  tf.contrib.layers.flatten(x_tensor)\n",
    "\n",
    "\n",
    "\"\"\"\n",
    "DON'T MODIFY ANYTHING IN THIS CELL THAT IS BELOW THIS LINE\n",
    "\"\"\"\n",
    "tests.test_flatten(flatten)"
   ]
  },
  {
   "cell_type": "markdown",
   "metadata": {},
   "source": [
    "### Fully-Connected Layer\n",
    "Implement the `fully_conn` function to apply a fully connected layer to `x_tensor` with the shape (*Batch Size*, *num_outputs*). Shortcut option: you can use classes from the [TensorFlow Layers](https://www.tensorflow.org/api_docs/python/tf/layers) or [TensorFlow Layers (contrib)](https://www.tensorflow.org/api_guides/python/contrib.layers) packages for this layer. For more of a challenge, only use other TensorFlow packages."
   ]
  },
  {
   "cell_type": "code",
   "execution_count": 10,
   "metadata": {},
   "outputs": [
    {
     "name": "stdout",
     "output_type": "stream",
     "text": [
      "Tests Passed\n"
     ]
    }
   ],
   "source": [
    "def fully_conn(x_tensor, num_outputs):\n",
    "    \"\"\"\n",
    "    Apply a fully connected layer to x_tensor using weight and bias\n",
    "    : x_tensor: A 2-D tensor where the first dimension is batch size.\n",
    "    : num_outputs: The number of output that the new tensor should be.\n",
    "    : return: A 2-D tensor where the second dimension is num_outputs.\n",
    "    \"\"\"\n",
    "    # TODO: Implement Function\n",
    "    return tf.contrib.layers.fully_connected(x_tensor, num_outputs)\n",
    "\n",
    "\n",
    "\"\"\"\n",
    "DON'T MODIFY ANYTHING IN THIS CELL THAT IS BELOW THIS LINE\n",
    "\"\"\"\n",
    "tests.test_fully_conn(fully_conn)"
   ]
  },
  {
   "cell_type": "markdown",
   "metadata": {},
   "source": [
    "### Output Layer\n",
    "Implement the `output` function to apply a fully connected layer to `x_tensor` with the shape (*Batch Size*, *num_outputs*). Shortcut option: you can use classes from the [TensorFlow Layers](https://www.tensorflow.org/api_docs/python/tf/layers) or [TensorFlow Layers (contrib)](https://www.tensorflow.org/api_guides/python/contrib.layers) packages for this layer. For more of a challenge, only use other TensorFlow packages.\n",
    "\n",
    "**Note:** Activation, softmax, or cross entropy should **not** be applied to this."
   ]
  },
  {
   "cell_type": "code",
   "execution_count": 11,
   "metadata": {},
   "outputs": [
    {
     "name": "stdout",
     "output_type": "stream",
     "text": [
      "Tests Passed\n"
     ]
    }
   ],
   "source": [
    "def output(x_tensor, num_outputs):\n",
    "    \"\"\"\n",
    "    Apply a output layer to x_tensor using weight and bias\n",
    "    : x_tensor: A 2-D tensor where the first dimension is batch size.\n",
    "    : num_outputs: The number of output that the new tensor should be.\n",
    "    : return: A 2-D tensor where the second dimension is num_outputs.\n",
    "    \"\"\"\n",
    "    # TODO: Implement Function\n",
    "    return tf.contrib.layers.fully_connected(x_tensor,num_outputs,activation_fn=None)\n",
    "\n",
    "\n",
    "\"\"\"\n",
    "DON'T MODIFY ANYTHING IN THIS CELL THAT IS BELOW THIS LINE\n",
    "\"\"\"\n",
    "tests.test_output(output)"
   ]
  },
  {
   "cell_type": "markdown",
   "metadata": {},
   "source": [
    "### Create Convolutional Model\n",
    "Implement the function `conv_net` to create a convolutional neural network model. The function takes in a batch of images, `x`, and outputs logits.  Use the layers you created above to create this model:\n",
    "\n",
    "* Apply 1, 2, or 3 Convolution and Max Pool layers\n",
    "* Apply a Flatten Layer\n",
    "* Apply 1, 2, or 3 Fully Connected Layers\n",
    "* Apply an Output Layer\n",
    "* Return the output\n",
    "* Apply [TensorFlow's Dropout](https://www.tensorflow.org/api_docs/python/tf/nn/dropout) to one or more layers in the model using `keep_prob`. "
   ]
  },
  {
   "cell_type": "code",
   "execution_count": 12,
   "metadata": {},
   "outputs": [
    {
     "name": "stdout",
     "output_type": "stream",
     "text": [
      "WARNING:tensorflow:From <ipython-input-12-e3405e247875>:72: softmax_cross_entropy_with_logits (from tensorflow.python.ops.nn_ops) is deprecated and will be removed in a future version.\n",
      "Instructions for updating:\n",
      "\n",
      "Future major versions of TensorFlow will allow gradients to flow\n",
      "into the labels input on backprop by default.\n",
      "\n",
      "See tf.nn.softmax_cross_entropy_with_logits_v2.\n",
      "\n",
      "Neural Network Built!\n"
     ]
    }
   ],
   "source": [
    "def conv_net(x, keep_prob):\n",
    "    \"\"\"\n",
    "    Create a convolutional neural network model\n",
    "    : x: Placeholder tensor that holds image data.\n",
    "    : keep_prob: Placeholder tensor that hold dropout keep probability.\n",
    "    : return: Tensor that represents logits\n",
    "    \"\"\"\n",
    "    conv_ksize =[3,3]\n",
    "    conv_strides = [1,1]\n",
    "    pool_ksize = [2,2]\n",
    "    pool_strides= [2,2]\n",
    "    \n",
    "    # TODO: Apply 1, 2, or 3 Convolution and Max Pool layers\n",
    "    #    Play around with different number of outputs, kernel size and stride\n",
    "    # Function Definition from Above:\n",
    "    #    conv2d_maxpool(x_tensor, conv_num_outputs, conv_ksize, conv_strides, pool_ksize, pool_strides)\n",
    "    layer1= conv2d_maxpool(x,64,conv_ksize,conv_strides, pool_ksize, pool_strides)\n",
    "    layer2= conv2d_maxpool(layer1,128,conv_ksize,conv_strides, pool_ksize, pool_strides)\n",
    "    layer3= conv2d_maxpool(layer2,256,conv_ksize,conv_strides, pool_ksize, pool_strides)\n",
    "    \n",
    "\n",
    "    # TODO: Apply a Flatten Layer\n",
    "    # Function Definition from Above:\n",
    "    #   flatten(x_tensor)\n",
    "    flat=flatten(layer3)\n",
    "    \n",
    "\n",
    "    # TODO: Apply 1, 2, or 3 Fully Connected Layers\n",
    "    #    Play around with different number of outputs\n",
    "    # Function Definition from Above:\n",
    "    #   fully_conn(x_tensor, num_outputs)\n",
    "    full_connection=fully_conn(flat,2000)  \n",
    "    full_connection=tf.nn.dropout(full_connection,keep_prob)\n",
    "    full_connection=fully_conn(full_connection,2000) \n",
    "    full_connection=tf.nn.dropout(full_connection,keep_prob)\n",
    "    full_connection=fully_conn(full_connection,2000)\n",
    "    full_connection=tf.nn.dropout(full_connection,keep_prob)\n",
    "\n",
    "    # TODO: Apply an Output Layer\n",
    "    #    Set this to the number of classes\n",
    "    # Function Definition from Above:\n",
    "    #   output(x_tensor, num_outputs)\n",
    "    final_output=output(full_connection,10)\n",
    "    \n",
    "    # TODO: return output\n",
    "    return final_output\n",
    "\n",
    "\n",
    "\"\"\"\n",
    "DON'T MODIFY ANYTHING IN THIS CELL THAT IS BELOW THIS LINE\n",
    "\"\"\"\n",
    "\n",
    "##############################\n",
    "## Build the Neural Network ##\n",
    "##############################\n",
    "\n",
    "# Remove previous weights, bias, inputs, etc..\n",
    "tf.reset_default_graph()\n",
    "\n",
    "# Inputs\n",
    "x = neural_net_image_input((32, 32, 3))\n",
    "y = neural_net_label_input(10)\n",
    "keep_prob = neural_net_keep_prob_input()\n",
    "\n",
    "# Model\n",
    "logits = conv_net(x, keep_prob)\n",
    "\n",
    "# Name logits Tensor, so that is can be loaded from disk after training\n",
    "logits = tf.identity(logits, name='logits')\n",
    "\n",
    "# Loss and Optimizer\n",
    "cost = tf.reduce_mean(tf.nn.softmax_cross_entropy_with_logits(logits=logits, labels=y))\n",
    "optimizer = tf.train.AdamOptimizer().minimize(cost)\n",
    "\n",
    "# Accuracy\n",
    "correct_pred = tf.equal(tf.argmax(logits, 1), tf.argmax(y, 1))\n",
    "accuracy = tf.reduce_mean(tf.cast(correct_pred, tf.float32), name='accuracy')\n",
    "\n",
    "tests.test_conv_net(conv_net)"
   ]
  },
  {
   "cell_type": "markdown",
   "metadata": {},
   "source": [
    "## Train the Neural Network\n",
    "### Single Optimization\n",
    "Implement the function `train_neural_network` to do a single optimization.  The optimization should use `optimizer` to optimize in `session` with a `feed_dict` of the following:\n",
    "* `x` for image input\n",
    "* `y` for labels\n",
    "* `keep_prob` for keep probability for dropout\n",
    "\n",
    "This function will be called for each batch, so `tf.global_variables_initializer()` has already been called.\n",
    "\n",
    "Note: Nothing needs to be returned. This function is only optimizing the neural network."
   ]
  },
  {
   "cell_type": "code",
   "execution_count": 13,
   "metadata": {},
   "outputs": [
    {
     "name": "stdout",
     "output_type": "stream",
     "text": [
      "Tests Passed\n"
     ]
    }
   ],
   "source": [
    "def train_neural_network(session, optimizer, keep_probability, feature_batch, label_batch):\n",
    "    \"\"\"\n",
    "    Optimize the session on a batch of images and labels\n",
    "    : session: Current TensorFlow session\n",
    "    : optimizer: TensorFlow optimizer function\n",
    "    : keep_probability: keep probability\n",
    "    : feature_batch: Batch of Numpy image data\n",
    "    : label_batch: Batch of Numpy label data\n",
    "    \"\"\"\n",
    "    session.run(optimizer, feed_dict={x: feature_batch,\n",
    "                                      y: label_batch,\n",
    "                                      keep_prob: keep_probability})\n",
    "    # TODO: Implement Function\n",
    "    \n",
    "\n",
    "    \n",
    "\"\"\"\n",
    "DON'T MODIFY ANYTHING IN THIS CELL THAT IS BELOW THIS LINE\n",
    "\"\"\"\n",
    "tests.test_train_nn(train_neural_network)"
   ]
  },
  {
   "cell_type": "markdown",
   "metadata": {},
   "source": [
    "### Show Stats\n",
    "Implement the function `print_stats` to print loss and validation accuracy.  Use the global variables `valid_features` and `valid_labels` to calculate validation accuracy.  Use a keep probability of `1.0` to calculate the loss and validation accuracy."
   ]
  },
  {
   "cell_type": "code",
   "execution_count": 14,
   "metadata": {},
   "outputs": [],
   "source": [
    "def print_stats(session, feature_batch, label_batch, cost, accuracy):\n",
    "    \"\"\"\n",
    "    Print information about loss and validation accuracy\n",
    "    : session: Current TensorFlow session\n",
    "    : feature_batch: Batch of Numpy image data\n",
    "    : label_batch: Batch of Numpy label data\n",
    "    : cost: TensorFlow cost function\n",
    "    : accuracy: TensorFlow accuracy function\n",
    "    \"\"\"\n",
    "    final_cost = session.run(cost, feed_dict={x: feature_batch,y: label_batch,keep_prob: 1.0})\n",
    "    final_accuracy = session.run(accuracy, feed_dict={x: valid_features,y: valid_labels,keep_prob: 1.0})\n",
    "    print('cost: {}, accuracy: {}'.format(final_cost, final_accuracy))\n",
    "     \n",
    "    # TODO: Implement Function\n",
    "    "
   ]
  },
  {
   "cell_type": "markdown",
   "metadata": {},
   "source": [
    "### Hyperparameters\n",
    "Tune the following parameters:\n",
    "* Set `epochs` to the number of iterations until the network stops learning or start overfitting\n",
    "* Set `batch_size` to the highest number that your machine has memory for.  Most people set them to common sizes of memory:\n",
    " * 64\n",
    " * 128\n",
    " * 256\n",
    " * ...\n",
    "* Set `keep_probability` to the probability of keeping a node using dropout"
   ]
  },
  {
   "cell_type": "code",
   "execution_count": 15,
   "metadata": {},
   "outputs": [],
   "source": [
    "# TODO: Tune Parameters\n",
    "epochs = 20\n",
    "batch_size = 512\n",
    "keep_probability = 0.77"
   ]
  },
  {
   "cell_type": "markdown",
   "metadata": {},
   "source": [
    "### Train on a Single CIFAR-10 Batch\n",
    "Instead of training the neural network on all the CIFAR-10 batches of data, let's use a single batch. This should save time while you iterate on the model to get a better accuracy.  Once the final validation accuracy is 50% or greater, run the model on all the data in the next section."
   ]
  },
  {
   "cell_type": "code",
   "execution_count": 16,
   "metadata": {
    "scrolled": false
   },
   "outputs": [
    {
     "name": "stdout",
     "output_type": "stream",
     "text": [
      "Checking the Training on a Single Batch...\n",
      "Epoch  1, CIFAR-10 Batch 1:  cost: 2.138640880584717, accuracy: 0.23999999463558197\n",
      "Epoch  2, CIFAR-10 Batch 1:  cost: 1.8708823919296265, accuracy: 0.3310000002384186\n",
      "Epoch  3, CIFAR-10 Batch 1:  cost: 1.6545932292938232, accuracy: 0.4129999876022339\n",
      "Epoch  4, CIFAR-10 Batch 1:  cost: 1.6157628297805786, accuracy: 0.4041999876499176\n",
      "Epoch  5, CIFAR-10 Batch 1:  cost: 1.3417744636535645, accuracy: 0.4747999906539917\n",
      "Epoch  6, CIFAR-10 Batch 1:  cost: 1.1262825727462769, accuracy: 0.5185999870300293\n",
      "Epoch  7, CIFAR-10 Batch 1:  cost: 1.0022177696228027, accuracy: 0.521399974822998\n",
      "Epoch  8, CIFAR-10 Batch 1:  cost: 0.7182822227478027, accuracy: 0.5544000267982483\n",
      "Epoch  9, CIFAR-10 Batch 1:  cost: 0.6118878722190857, accuracy: 0.5741999745368958\n",
      "Epoch 10, CIFAR-10 Batch 1:  cost: 0.5222505331039429, accuracy: 0.5627999901771545\n",
      "Epoch 11, CIFAR-10 Batch 1:  cost: 0.4913775324821472, accuracy: 0.5392000079154968\n",
      "Epoch 12, CIFAR-10 Batch 1:  cost: 0.41171523928642273, accuracy: 0.5357999801635742\n",
      "Epoch 13, CIFAR-10 Batch 1:  cost: 0.3238198459148407, accuracy: 0.551800012588501\n",
      "Epoch 14, CIFAR-10 Batch 1:  cost: 0.24388231337070465, accuracy: 0.5812000036239624\n",
      "Epoch 15, CIFAR-10 Batch 1:  cost: 0.16302922368049622, accuracy: 0.5709999799728394\n",
      "Epoch 16, CIFAR-10 Batch 1:  cost: 0.21191807091236115, accuracy: 0.5248000025749207\n",
      "Epoch 17, CIFAR-10 Batch 1:  cost: 0.13955458998680115, accuracy: 0.548799991607666\n",
      "Epoch 18, CIFAR-10 Batch 1:  cost: 0.11480362713336945, accuracy: 0.5527999997138977\n",
      "Epoch 19, CIFAR-10 Batch 1:  cost: 0.07779844105243683, accuracy: 0.5604000091552734\n",
      "Epoch 20, CIFAR-10 Batch 1:  cost: 0.08205591887235641, accuracy: 0.5784000158309937\n"
     ]
    }
   ],
   "source": [
    "\"\"\"\n",
    "DON'T MODIFY ANYTHING IN THIS CELL\n",
    "\"\"\"\n",
    "print('Checking the Training on a Single Batch...')\n",
    "with tf.Session() as sess:\n",
    "    # Initializing the variables\n",
    "    sess.run(tf.global_variables_initializer())\n",
    "    \n",
    "    # Training cycle\n",
    "    for epoch in range(epochs):\n",
    "        batch_i = 1\n",
    "        for batch_features, batch_labels in helper.load_preprocess_training_batch(batch_i, batch_size):\n",
    "            train_neural_network(sess, optimizer, keep_probability, batch_features, batch_labels)\n",
    "        print('Epoch {:>2}, CIFAR-10 Batch {}:  '.format(epoch + 1, batch_i), end='')\n",
    "        print_stats(sess, batch_features, batch_labels, cost, accuracy)"
   ]
  },
  {
   "cell_type": "markdown",
   "metadata": {},
   "source": [
    "### Fully Train the Model\n",
    "Now that you got a good accuracy with a single CIFAR-10 batch, try it with all five batches."
   ]
  },
  {
   "cell_type": "code",
   "execution_count": 17,
   "metadata": {},
   "outputs": [
    {
     "name": "stdout",
     "output_type": "stream",
     "text": [
      "Training...\n",
      "Epoch  1, CIFAR-10 Batch 1:  cost: 2.1502561569213867, accuracy: 0.18219999969005585\n",
      "Epoch  1, CIFAR-10 Batch 2:  cost: 1.7883671522140503, accuracy: 0.3089999854564667\n",
      "Epoch  1, CIFAR-10 Batch 3:  cost: 1.475638747215271, accuracy: 0.3912000060081482\n",
      "Epoch  1, CIFAR-10 Batch 4:  cost: 1.3746883869171143, accuracy: 0.45339998602867126\n",
      "Epoch  1, CIFAR-10 Batch 5:  cost: 1.3158713579177856, accuracy: 0.49399998784065247\n",
      "Epoch  2, CIFAR-10 Batch 1:  cost: 1.2946237325668335, accuracy: 0.5216000080108643\n",
      "Epoch  2, CIFAR-10 Batch 2:  cost: 1.114676594734192, accuracy: 0.5533999800682068\n",
      "Epoch  2, CIFAR-10 Batch 3:  cost: 1.0184253454208374, accuracy: 0.5690000057220459\n",
      "Epoch  2, CIFAR-10 Batch 4:  cost: 0.9496231079101562, accuracy: 0.5947999954223633\n",
      "Epoch  2, CIFAR-10 Batch 5:  cost: 0.8964945673942566, accuracy: 0.6068000197410583\n",
      "Epoch  3, CIFAR-10 Batch 1:  cost: 0.9182561635971069, accuracy: 0.6123999953269958\n",
      "Epoch  3, CIFAR-10 Batch 2:  cost: 0.8677840232849121, accuracy: 0.6132000088691711\n",
      "Epoch  3, CIFAR-10 Batch 3:  cost: 0.7681902050971985, accuracy: 0.6244000196456909\n",
      "Epoch  3, CIFAR-10 Batch 4:  cost: 0.6706207394599915, accuracy: 0.6521999835968018\n",
      "Epoch  3, CIFAR-10 Batch 5:  cost: 0.6911726593971252, accuracy: 0.6496000289916992\n",
      "Epoch  4, CIFAR-10 Batch 1:  cost: 0.7295835614204407, accuracy: 0.6358000040054321\n",
      "Epoch  4, CIFAR-10 Batch 2:  cost: 0.6190252304077148, accuracy: 0.6488000154495239\n",
      "Epoch  4, CIFAR-10 Batch 3:  cost: 0.6121183037757874, accuracy: 0.6643999814987183\n",
      "Epoch  4, CIFAR-10 Batch 4:  cost: 0.6007146835327148, accuracy: 0.6335999965667725\n",
      "Epoch  4, CIFAR-10 Batch 5:  cost: 0.570612370967865, accuracy: 0.6656000018119812\n",
      "Epoch  5, CIFAR-10 Batch 1:  cost: 0.5254512429237366, accuracy: 0.6710000038146973\n",
      "Epoch  5, CIFAR-10 Batch 2:  cost: 0.5561875104904175, accuracy: 0.675000011920929\n",
      "Epoch  5, CIFAR-10 Batch 3:  cost: 0.5271106362342834, accuracy: 0.6481999754905701\n",
      "Epoch  5, CIFAR-10 Batch 4:  cost: 0.44770535826683044, accuracy: 0.6585999727249146\n",
      "Epoch  5, CIFAR-10 Batch 5:  cost: 0.3515055775642395, accuracy: 0.6883999705314636\n",
      "Epoch  6, CIFAR-10 Batch 1:  cost: 0.45267629623413086, accuracy: 0.6741999983787537\n",
      "Epoch  6, CIFAR-10 Batch 2:  cost: 0.4646754860877991, accuracy: 0.6679999828338623\n",
      "Epoch  6, CIFAR-10 Batch 3:  cost: 0.3360961675643921, accuracy: 0.6779999732971191\n",
      "Epoch  6, CIFAR-10 Batch 4:  cost: 0.3172955811023712, accuracy: 0.6782000064849854\n",
      "Epoch  6, CIFAR-10 Batch 5:  cost: 0.2821693420410156, accuracy: 0.6826000213623047\n",
      "Epoch  7, CIFAR-10 Batch 1:  cost: 0.3276708424091339, accuracy: 0.6787999868392944\n",
      "Epoch  7, CIFAR-10 Batch 2:  cost: 0.30496683716773987, accuracy: 0.6818000078201294\n",
      "Epoch  7, CIFAR-10 Batch 3:  cost: 0.26749157905578613, accuracy: 0.6725999712944031\n",
      "Epoch  7, CIFAR-10 Batch 4:  cost: 0.24303101003170013, accuracy: 0.6941999793052673\n",
      "Epoch  7, CIFAR-10 Batch 5:  cost: 0.19320884346961975, accuracy: 0.6967999935150146\n",
      "Epoch  8, CIFAR-10 Batch 1:  cost: 0.2733606994152069, accuracy: 0.6894000172615051\n",
      "Epoch  8, CIFAR-10 Batch 2:  cost: 0.21802696585655212, accuracy: 0.6826000213623047\n",
      "Epoch  8, CIFAR-10 Batch 3:  cost: 0.19336602091789246, accuracy: 0.6930000185966492\n",
      "Epoch  8, CIFAR-10 Batch 4:  cost: 0.1676311492919922, accuracy: 0.6955999732017517\n",
      "Epoch  8, CIFAR-10 Batch 5:  cost: 0.1704104095697403, accuracy: 0.6967999935150146\n",
      "Epoch  9, CIFAR-10 Batch 1:  cost: 0.23690809309482574, accuracy: 0.6741999983787537\n",
      "Epoch  9, CIFAR-10 Batch 2:  cost: 0.17829108238220215, accuracy: 0.6991999745368958\n",
      "Epoch  9, CIFAR-10 Batch 3:  cost: 0.1445927768945694, accuracy: 0.6886000037193298\n",
      "Epoch  9, CIFAR-10 Batch 4:  cost: 0.12309279292821884, accuracy: 0.6948000192642212\n",
      "Epoch  9, CIFAR-10 Batch 5:  cost: 0.1342805176973343, accuracy: 0.6787999868392944\n",
      "Epoch 10, CIFAR-10 Batch 1:  cost: 0.14291967451572418, accuracy: 0.6840000152587891\n",
      "Epoch 10, CIFAR-10 Batch 2:  cost: 0.14787741005420685, accuracy: 0.698199987411499\n",
      "Epoch 10, CIFAR-10 Batch 3:  cost: 0.13946731388568878, accuracy: 0.675000011920929\n",
      "Epoch 10, CIFAR-10 Batch 4:  cost: 0.1129843220114708, accuracy: 0.6705999970436096\n",
      "Epoch 10, CIFAR-10 Batch 5:  cost: 0.1049053966999054, accuracy: 0.6976000070571899\n",
      "Epoch 11, CIFAR-10 Batch 1:  cost: 0.08391208201646805, accuracy: 0.7024000287055969\n",
      "Epoch 11, CIFAR-10 Batch 2:  cost: 0.12427389621734619, accuracy: 0.6848000288009644\n",
      "Epoch 11, CIFAR-10 Batch 3:  cost: 0.06662759184837341, accuracy: 0.6970000267028809\n",
      "Epoch 11, CIFAR-10 Batch 4:  cost: 0.07914809882640839, accuracy: 0.6894000172615051\n",
      "Epoch 11, CIFAR-10 Batch 5:  cost: 0.08349176496267319, accuracy: 0.7008000016212463\n",
      "Epoch 12, CIFAR-10 Batch 1:  cost: 0.10083499550819397, accuracy: 0.6855999827384949\n",
      "Epoch 12, CIFAR-10 Batch 2:  cost: 0.08493392169475555, accuracy: 0.7035999894142151\n",
      "Epoch 12, CIFAR-10 Batch 3:  cost: 0.08438214659690857, accuracy: 0.6866000294685364\n",
      "Epoch 12, CIFAR-10 Batch 4:  cost: 0.09773135185241699, accuracy: 0.6848000288009644\n",
      "Epoch 12, CIFAR-10 Batch 5:  cost: 0.045670248568058014, accuracy: 0.6970000267028809\n",
      "Epoch 13, CIFAR-10 Batch 1:  cost: 0.07264170795679092, accuracy: 0.6862000226974487\n",
      "Epoch 13, CIFAR-10 Batch 2:  cost: 0.0804399698972702, accuracy: 0.6980000138282776\n",
      "Epoch 13, CIFAR-10 Batch 3:  cost: 0.038909099996089935, accuracy: 0.7120000123977661\n",
      "Epoch 13, CIFAR-10 Batch 4:  cost: 0.04918961971998215, accuracy: 0.694599986076355\n",
      "Epoch 13, CIFAR-10 Batch 5:  cost: 0.039427634328603745, accuracy: 0.6912000179290771\n",
      "Epoch 14, CIFAR-10 Batch 1:  cost: 0.06815235316753387, accuracy: 0.6868000030517578\n",
      "Epoch 14, CIFAR-10 Batch 2:  cost: 0.04175061732530594, accuracy: 0.6991999745368958\n",
      "Epoch 14, CIFAR-10 Batch 3:  cost: 0.039875328540802, accuracy: 0.7098000049591064\n",
      "Epoch 14, CIFAR-10 Batch 4:  cost: 0.03918485715985298, accuracy: 0.6966000199317932\n",
      "Epoch 14, CIFAR-10 Batch 5:  cost: 0.03072625957429409, accuracy: 0.694599986076355\n",
      "Epoch 15, CIFAR-10 Batch 1:  cost: 0.02254551649093628, accuracy: 0.6972000002861023\n",
      "Epoch 15, CIFAR-10 Batch 2:  cost: 0.043886009603738785, accuracy: 0.6937999725341797\n",
      "Epoch 15, CIFAR-10 Batch 3:  cost: 0.02098366618156433, accuracy: 0.7160000205039978\n",
      "Epoch 15, CIFAR-10 Batch 4:  cost: 0.04759487882256508, accuracy: 0.6937999725341797\n",
      "Epoch 15, CIFAR-10 Batch 5:  cost: 0.02068742737174034, accuracy: 0.7003999948501587\n",
      "Epoch 16, CIFAR-10 Batch 1:  cost: 0.03825479745864868, accuracy: 0.6922000050544739\n",
      "Epoch 16, CIFAR-10 Batch 2:  cost: 0.02311548963189125, accuracy: 0.7063999772071838\n",
      "Epoch 16, CIFAR-10 Batch 3:  cost: 0.023586280643939972, accuracy: 0.7052000164985657\n",
      "Epoch 16, CIFAR-10 Batch 4:  cost: 0.024575892835855484, accuracy: 0.7074000239372253\n",
      "Epoch 16, CIFAR-10 Batch 5:  cost: 0.01637287810444832, accuracy: 0.704800009727478\n",
      "Epoch 17, CIFAR-10 Batch 1:  cost: 0.012027149088680744, accuracy: 0.7179999947547913\n",
      "Epoch 17, CIFAR-10 Batch 2:  cost: 0.014365555718541145, accuracy: 0.7125999927520752\n",
      "Epoch 17, CIFAR-10 Batch 3:  cost: 0.02159084565937519, accuracy: 0.7106000185012817\n",
      "Epoch 17, CIFAR-10 Batch 4:  cost: 0.016676422208547592, accuracy: 0.6980000138282776\n",
      "Epoch 17, CIFAR-10 Batch 5:  cost: 0.008559558540582657, accuracy: 0.7084000110626221\n",
      "Epoch 18, CIFAR-10 Batch 1:  cost: 0.01230374351143837, accuracy: 0.7099999785423279\n",
      "Epoch 18, CIFAR-10 Batch 2:  cost: 0.011658481322228909, accuracy: 0.7102000117301941\n",
      "Epoch 18, CIFAR-10 Batch 3:  cost: 0.014004877768456936, accuracy: 0.7121999859809875\n",
      "Epoch 18, CIFAR-10 Batch 4:  cost: 0.02424709126353264, accuracy: 0.7085999846458435\n",
      "Epoch 18, CIFAR-10 Batch 5:  cost: 0.006781105883419514, accuracy: 0.70660001039505\n",
      "Epoch 19, CIFAR-10 Batch 1:  cost: 0.011168325319886208, accuracy: 0.7143999934196472\n",
      "Epoch 19, CIFAR-10 Batch 2:  cost: 0.009131601080298424, accuracy: 0.7063999772071838\n",
      "Epoch 19, CIFAR-10 Batch 3:  cost: 0.008956852369010448, accuracy: 0.7103999853134155\n",
      "Epoch 19, CIFAR-10 Batch 4:  cost: 0.012184829451143742, accuracy: 0.7089999914169312\n",
      "Epoch 19, CIFAR-10 Batch 5:  cost: 0.021491849794983864, accuracy: 0.6913999915122986\n",
      "Epoch 20, CIFAR-10 Batch 1:  cost: 0.007958248257637024, accuracy: 0.7129999995231628\n",
      "Epoch 20, CIFAR-10 Batch 2:  cost: 0.00936962477862835, accuracy: 0.715399980545044\n"
     ]
    },
    {
     "name": "stdout",
     "output_type": "stream",
     "text": [
      "Epoch 20, CIFAR-10 Batch 3:  cost: 0.006585984490811825, accuracy: 0.7164000272750854\n",
      "Epoch 20, CIFAR-10 Batch 4:  cost: 0.009651864878833294, accuracy: 0.6990000009536743\n",
      "Epoch 20, CIFAR-10 Batch 5:  cost: 0.005833713803440332, accuracy: 0.704800009727478\n"
     ]
    }
   ],
   "source": [
    "\"\"\"\n",
    "DON'T MODIFY ANYTHING IN THIS CELL\n",
    "\"\"\"\n",
    "save_model_path = './image_classification'\n",
    "\n",
    "print('Training...')\n",
    "with tf.Session() as sess:\n",
    "    # Initializing the variables\n",
    "    sess.run(tf.global_variables_initializer())\n",
    "    \n",
    "    # Training cycle\n",
    "    for epoch in range(epochs):\n",
    "        # Loop over all batches\n",
    "        n_batches = 5\n",
    "        for batch_i in range(1, n_batches + 1):\n",
    "            for batch_features, batch_labels in helper.load_preprocess_training_batch(batch_i, batch_size):\n",
    "                train_neural_network(sess, optimizer, keep_probability, batch_features, batch_labels)\n",
    "            print('Epoch {:>2}, CIFAR-10 Batch {}:  '.format(epoch + 1, batch_i), end='')\n",
    "            print_stats(sess, batch_features, batch_labels, cost, accuracy)\n",
    "            \n",
    "    # Save Model\n",
    "    saver = tf.train.Saver()\n",
    "    save_path = saver.save(sess, save_model_path)"
   ]
  },
  {
   "cell_type": "markdown",
   "metadata": {},
   "source": [
    "# Checkpoint\n",
    "The model has been saved to disk.\n",
    "## Test Model\n",
    "Test your model against the test dataset.  This will be your final accuracy. You should have an accuracy greater than 50%. If you don't, keep tweaking the model architecture and parameters."
   ]
  },
  {
   "cell_type": "code",
   "execution_count": 18,
   "metadata": {},
   "outputs": [
    {
     "name": "stdout",
     "output_type": "stream",
     "text": [
      "INFO:tensorflow:Restoring parameters from ./image_classification\n",
      "Testing Accuracy: 0.7018382340669632\n",
      "\n"
     ]
    },
    {
     "data": {
      "image/png": "[encoded data removed]",
      "text/plain": [
       "<matplotlib.figure.Figure at 0x7f8a9a0692e8>"
      ]
     },
     "metadata": {
      "image/png": {
       "height": 319,
       "width": 355
      }
     },
     "output_type": "display_data"
    }
   ],
   "source": [
    "\"\"\"\n",
    "DON'T MODIFY ANYTHING IN THIS CELL\n",
    "\"\"\"\n",
    "%matplotlib inline\n",
    "%config InlineBackend.figure_format = 'retina'\n",
    "\n",
    "import tensorflow as tf\n",
    "import pickle\n",
    "import helper\n",
    "import random\n",
    "\n",
    "# Set batch size if not already set\n",
    "try:\n",
    "    if batch_size:\n",
    "        pass\n",
    "except NameError:\n",
    "    batch_size = 64\n",
    "\n",
    "save_model_path = './image_classification'\n",
    "n_samples = 4\n",
    "top_n_predictions = 3\n",
    "\n",
    "def test_model():\n",
    "    \"\"\"\n",
    "    Test the saved model against the test dataset\n",
    "    \"\"\"\n",
    "\n",
    "    test_features, test_labels = pickle.load(open('preprocess_training.p', mode='rb'))\n",
    "    loaded_graph = tf.Graph()\n",
    "\n",
    "    with tf.Session(graph=loaded_graph) as sess:\n",
    "        # Load model\n",
    "        loader = tf.train.import_meta_graph(save_model_path + '.meta')\n",
    "        loader.restore(sess, save_model_path)\n",
    "\n",
    "        # Get Tensors from loaded model\n",
    "        loaded_x = loaded_graph.get_tensor_by_name('x:0')\n",
    "        loaded_y = loaded_graph.get_tensor_by_name('y:0')\n",
    "        loaded_keep_prob = loaded_graph.get_tensor_by_name('keep_prob:0')\n",
    "        loaded_logits = loaded_graph.get_tensor_by_name('logits:0')\n",
    "        loaded_acc = loaded_graph.get_tensor_by_name('accuracy:0')\n",
    "        \n",
    "        # Get accuracy in batches for memory limitations\n",
    "        test_batch_acc_total = 0\n",
    "        test_batch_count = 0\n",
    "        \n",
    "        for train_feature_batch, train_label_batch in helper.batch_features_labels(test_features, test_labels, batch_size):\n",
    "            test_batch_acc_total += sess.run(\n",
    "                loaded_acc,\n",
    "                feed_dict={loaded_x: train_feature_batch, loaded_y: train_label_batch, loaded_keep_prob: 1.0})\n",
    "            test_batch_count += 1\n",
    "\n",
    "        print('Testing Accuracy: {}\\n'.format(test_batch_acc_total/test_batch_count))\n",
    "\n",
    "        # Print Random Samples\n",
    "        random_test_features, random_test_labels = tuple(zip(*random.sample(list(zip(test_features, test_labels)), n_samples)))\n",
    "        random_test_predictions = sess.run(\n",
    "            tf.nn.top_k(tf.nn.softmax(loaded_logits), top_n_predictions),\n",
    "            feed_dict={loaded_x: random_test_features, loaded_y: random_test_labels, loaded_keep_prob: 1.0})\n",
    "        helper.display_image_predictions(random_test_features, random_test_labels, random_test_predictions)\n",
    "\n",
    "\n",
    "test_model()"
   ]
  },
  {
   "cell_type": "markdown",
   "metadata": {},
   "source": [
    "## Why 50-80% Accuracy?\n",
    "You might be wondering why you can't get an accuracy any higher. First things first, 50% isn't bad for a simple CNN.  Pure guessing would get you 10% accuracy. That's because there are many more techniques that can be applied to your model and we recemmond that once you are done with this project, you explore!\n",
    "\n",
    "## Submitting This Project\n",
    "When submitting this project, make sure to run all the cells before saving the notebook.  Save the notebook file as \"image_classification.ipynb\" and save it as a HTML file under \"File\" -> \"Download as\".  Include the \"helper.py\" and \"problem_unittests.py\" files in your submission."
   ]
  }
 ],
 "metadata": {
  "kernelspec": {
   "display_name": "Python 3",
   "language": "python",
   "name": "python3"
  },
  "language_info": {
   "codemirror_mode": {
    "name": "ipython",
    "version": 3
   },
   "file_extension": ".py",
   "mimetype": "text/x-python",
   "name": "python",
   "nbconvert_exporter": "python",
   "pygments_lexer": "ipython3",
   "version": "3.5.2"
  }
 },
 "nbformat": 4,
 "nbformat_minor": 1
}
